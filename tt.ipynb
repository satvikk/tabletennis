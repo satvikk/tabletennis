{
 "cells": [
  {
   "cell_type": "code",
   "execution_count": 1,
   "metadata": {},
   "outputs": [],
   "source": [
    "import numpy as np\n",
    "import matplotlib.pyplot as plt\n",
    "import matplotlib.patches as patches"
   ]
  },
  {
   "cell_type": "markdown",
   "metadata": {},
   "source": [
    "length unit = feet  \n",
    "time unit = second  \n",
    "origin for position axes = center of table"
   ]
  },
  {
   "cell_type": "code",
   "execution_count": 2,
   "metadata": {},
   "outputs": [],
   "source": [
    "#constants\n",
    "TABLE_LENGTH = 9\n",
    "TABLE_WIDTH = 5\n",
    "TABLE_HEIGHT = 2.5\n",
    "TABLE_THICKNESS = 2 / 12\n",
    "LEG_THICKNESS = 3 / 12\n",
    "NET_HEIGHT = 0.5\n",
    "NET_WIDTH = 1 / 12\n",
    "GRAVITY = np.array([0., 0., -32.17])\n",
    "BALL_RADIUS = 1.57/2/12\n",
    "AIR_FRICTION = -(0.1/1.29)*np.pi*BALL_RADIUS*BALL_RADIUS\n",
    "SWING_COEF = 1\n",
    "dt = 0.001 #time interval between computations"
   ]
  },
  {
   "cell_type": "code",
   "execution_count": 3,
   "metadata": {},
   "outputs": [],
   "source": [
    "#helper functions\n",
    "def cross_prod(v1, v2):\n",
    "    \"\"\"\n",
    "    Calculates cross product between two vectors. Used in calculation of swing\n",
    "    \"\"\"\n",
    "    return np.array([\n",
    "        v1[1] * v2[2] - v1[2] * v2[1],\n",
    "        v1[2] * v2[0] - v1[0] * v2[2],\n",
    "        v1[0] * v2[1] - v1[1] * v2[0],\n",
    "    ])\n",
    "\n",
    "def play_ball(init_pos, init_vel, init_rot):\n",
    "    \"\"\"\n",
    "    Main function that traces a ball's movement.\n",
    "    Arguments:\n",
    "        init_pos: inital position, wrt to baseline of table\n",
    "        init_vel: inital velocity (in mph)\n",
    "        init_rot: initial rotation on ball\n",
    "    \"\"\"\n",
    "    ball_pos = init_pos - np.array([TABLE_LENGTH/2, 0., 0.])\n",
    "    ball_vel = init_vel * 5280 / 3600\n",
    "    ball_rot = init_rot\n",
    "    ball_acc = np.array([0., 0., 0.])\n",
    "    positions = []\n",
    "    while ball_pos[2] > BALL_RADIUS:\n",
    "        positions.append(ball_pos)\n",
    "        ball_pos = ball_pos + ball_vel*dt + 0.5*ball_acc*dt*dt\n",
    "        ball_vel = ball_vel + ball_acc*dt\n",
    "        ball_speed = np.sqrt(ball_vel.T @ ball_vel)\n",
    "        ball_acc = AIR_FRICTION*ball_speed*ball_vel + SWING_COEF*cross_prod(ball_vel, ball_rot) + GRAVITY\n",
    "    return np.array(positions)\n",
    "\n",
    "def plot_trajectory(ax, positions, color='black', title=\"\"):\n",
    "    \"\"\"\n",
    "    plots the TT table along with the ball trajectory\n",
    "    Arguments:\n",
    "        ax: matplotlib ax to draw on\n",
    "        positions: ball positions\n",
    "        color: color of the ball\n",
    "        title: title of the plot\n",
    "    \"\"\"\n",
    "    table = patches.Rectangle((-TABLE_LENGTH/2, -TABLE_THICKNESS), TABLE_LENGTH, TABLE_THICKNESS, facecolor='#3333DD')\n",
    "    leg1 = patches.Rectangle((-TABLE_LENGTH/2, -TABLE_HEIGHT), LEG_THICKNESS, TABLE_HEIGHT - TABLE_THICKNESS, facecolor='#222222')\n",
    "    leg2 = patches.Rectangle((TABLE_LENGTH/2 - LEG_THICKNESS, -TABLE_HEIGHT), LEG_THICKNESS, TABLE_HEIGHT - TABLE_THICKNESS, facecolor='#222222')\n",
    "    net =  patches.Rectangle((- NET_WIDTH/2, 0.), NET_WIDTH, NET_HEIGHT, facecolor='#999999', alpha = 0.7)\n",
    "    for p in positions:\n",
    "        ball = patches.Circle((p[0], p[2]), radius=BALL_RADIUS, facecolor=color)\n",
    "        ax.add_patch(ball)\n",
    "    ax.add_patch(table)\n",
    "    ax.add_patch(leg1)\n",
    "    ax.add_patch(leg2)\n",
    "    ax.add_patch(net)\n",
    "    ax.set_title(title)\n",
    "    ax.axis('equal')\n",
    "    ax.axis('off')\n",
    "    return ax"
   ]
  },
  {
   "cell_type": "code",
   "execution_count": 8,
   "metadata": {},
   "outputs": [
    {
     "data": {
      "image/png": "[encoded data removed]",
      "text/plain": [
       "<Figure size 1152x216 with 4 Axes>"
      ]
     },
     "metadata": {
      "needs_background": "light"
     },
     "output_type": "display_data"
    }
   ],
   "source": [
    "shots = {\n",
    "    \"flatshot\": {\n",
    "        \"init_pos\": np.array([-1.5, -1., 1.]),\n",
    "        \"init_vel\": np.array([35., 5., -1.]),\n",
    "        \"init_rot\" : np.array([0., 0., 0.])\n",
    "    },\n",
    "    \"slight topspin\": {\n",
    "        \"init_pos\": np.array([-1.5, -1., 1.]),\n",
    "        \"init_vel\": np.array([35., 5., -1.]),\n",
    "        \"init_rot\" : np.array([0., 0., 1.])\n",
    "    },\n",
    "    \"smash\": {\n",
    "        \"init_pos\": np.array([-1.5, -1., 1.]),\n",
    "        \"init_vel\": np.array([50., 5., -1.]),\n",
    "        \"init_rot\" : np.array([0., 0., -7.])\n",
    "    },\n",
    "    \"bottomspin-chop\": {\n",
    "        \"init_pos\": np.array([-1.5, -1., 0.1]),\n",
    "        \"init_vel\": np.array([15., 4., 6.]),\n",
    "        \"init_rot\" : np.array([0., 0., 3.5])\n",
    "    }\n",
    "\n",
    "}\n",
    "\n",
    "fig,ax= plt.subplots(1, len(shots), figsize=(16,3))\n",
    "for i,shot in enumerate(shots):\n",
    "    traj = play_ball(**shots[shot])\n",
    "    plot_trajectory(ax[i], traj, 'orange', title=shot)"
   ]
  }
 ],
 "metadata": {
  "kernelspec": {
   "display_name": "Python 3.8.12 ('ids705')",
   "language": "python",
   "name": "python3"
  },
  "language_info": {
   "codemirror_mode": {
    "name": "ipython",
    "version": 3
   },
   "file_extension": ".py",
   "mimetype": "text/x-python",
   "name": "python",
   "nbconvert_exporter": "python",
   "pygments_lexer": "ipython3",
   "version": "3.8.12"
  },
  "orig_nbformat": 4,
  "vscode": {
   "interpreter": {
    "hash": "9d27001ff2eaabeebc8570c925dda709e31ba859a256afb0541c257f2187d25b"
   }
  }
 },
 "nbformat": 4,
 "nbformat_minor": 2
}
